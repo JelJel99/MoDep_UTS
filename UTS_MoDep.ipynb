{
  "cells": [
    {
      "cell_type": "code",
      "execution_count": 1,
      "metadata": {
        "id": "JGvIzHwEYOH_"
      },
      "outputs": [],
      "source": [
        "import numpy as np\n",
        "import pandas as pd"
      ]
    },
    {
      "cell_type": "code",
      "execution_count": 2,
      "metadata": {
        "id": "uCmS6RlbaL2-"
      },
      "outputs": [],
      "source": [
        "df = pd.read_csv('Dataset_B_hotel.csv')"
      ]
    },
    {
      "cell_type": "markdown",
      "metadata": {
        "id": "9SZqZo33a1c0"
      },
      "source": [
        "# **1. a)**"
      ]
    },
    {
      "cell_type": "markdown",
      "metadata": {
        "id": "ymVubYVha6qf"
      },
      "source": [
        "## **EDA**"
      ]
    },
    {
      "cell_type": "code",
      "execution_count": 3,
      "metadata": {
        "colab": {
          "base_uri": "https://localhost:8080/",
          "height": 226
        },
        "id": "InwF3IKFaRDn",
        "outputId": "58537692-5b7c-4608-9c63-343eb8038e65"
      },
      "outputs": [
        {
          "data": {
            "text/html": [
              "<div>\n",
              "<style scoped>\n",
              "    .dataframe tbody tr th:only-of-type {\n",
              "        vertical-align: middle;\n",
              "    }\n",
              "\n",
              "    .dataframe tbody tr th {\n",
              "        vertical-align: top;\n",
              "    }\n",
              "\n",
              "    .dataframe thead th {\n",
              "        text-align: right;\n",
              "    }\n",
              "</style>\n",
              "<table border=\"1\" class=\"dataframe\">\n",
              "  <thead>\n",
              "    <tr style=\"text-align: right;\">\n",
              "      <th></th>\n",
              "      <th>Booking_ID</th>\n",
              "      <th>no_of_adults</th>\n",
              "      <th>no_of_children</th>\n",
              "      <th>no_of_weekend_nights</th>\n",
              "      <th>no_of_week_nights</th>\n",
              "      <th>type_of_meal_plan</th>\n",
              "      <th>required_car_parking_space</th>\n",
              "      <th>room_type_reserved</th>\n",
              "      <th>lead_time</th>\n",
              "      <th>arrival_year</th>\n",
              "      <th>arrival_month</th>\n",
              "      <th>arrival_date</th>\n",
              "      <th>market_segment_type</th>\n",
              "      <th>repeated_guest</th>\n",
              "      <th>no_of_previous_cancellations</th>\n",
              "      <th>no_of_previous_bookings_not_canceled</th>\n",
              "      <th>avg_price_per_room</th>\n",
              "      <th>no_of_special_requests</th>\n",
              "      <th>booking_status</th>\n",
              "    </tr>\n",
              "  </thead>\n",
              "  <tbody>\n",
              "    <tr>\n",
              "      <th>0</th>\n",
              "      <td>INN00001</td>\n",
              "      <td>2</td>\n",
              "      <td>0</td>\n",
              "      <td>1</td>\n",
              "      <td>2</td>\n",
              "      <td>Meal Plan 1</td>\n",
              "      <td>0.0</td>\n",
              "      <td>Room_Type 1</td>\n",
              "      <td>224</td>\n",
              "      <td>2017</td>\n",
              "      <td>10</td>\n",
              "      <td>2</td>\n",
              "      <td>Offline</td>\n",
              "      <td>0</td>\n",
              "      <td>0</td>\n",
              "      <td>0</td>\n",
              "      <td>65.00</td>\n",
              "      <td>0</td>\n",
              "      <td>Not_Canceled</td>\n",
              "    </tr>\n",
              "    <tr>\n",
              "      <th>1</th>\n",
              "      <td>INN00002</td>\n",
              "      <td>2</td>\n",
              "      <td>0</td>\n",
              "      <td>2</td>\n",
              "      <td>3</td>\n",
              "      <td>Not Selected</td>\n",
              "      <td>0.0</td>\n",
              "      <td>Room_Type 1</td>\n",
              "      <td>5</td>\n",
              "      <td>2018</td>\n",
              "      <td>11</td>\n",
              "      <td>6</td>\n",
              "      <td>Online</td>\n",
              "      <td>0</td>\n",
              "      <td>0</td>\n",
              "      <td>0</td>\n",
              "      <td>106.68</td>\n",
              "      <td>1</td>\n",
              "      <td>Not_Canceled</td>\n",
              "    </tr>\n",
              "    <tr>\n",
              "      <th>2</th>\n",
              "      <td>INN00003</td>\n",
              "      <td>1</td>\n",
              "      <td>0</td>\n",
              "      <td>2</td>\n",
              "      <td>1</td>\n",
              "      <td>Meal Plan 1</td>\n",
              "      <td>0.0</td>\n",
              "      <td>Room_Type 1</td>\n",
              "      <td>1</td>\n",
              "      <td>2018</td>\n",
              "      <td>2</td>\n",
              "      <td>28</td>\n",
              "      <td>Online</td>\n",
              "      <td>0</td>\n",
              "      <td>0</td>\n",
              "      <td>0</td>\n",
              "      <td>60.00</td>\n",
              "      <td>0</td>\n",
              "      <td>Canceled</td>\n",
              "    </tr>\n",
              "    <tr>\n",
              "      <th>3</th>\n",
              "      <td>INN00004</td>\n",
              "      <td>2</td>\n",
              "      <td>0</td>\n",
              "      <td>0</td>\n",
              "      <td>2</td>\n",
              "      <td>Meal Plan 1</td>\n",
              "      <td>0.0</td>\n",
              "      <td>Room_Type 1</td>\n",
              "      <td>211</td>\n",
              "      <td>2018</td>\n",
              "      <td>5</td>\n",
              "      <td>20</td>\n",
              "      <td>Online</td>\n",
              "      <td>0</td>\n",
              "      <td>0</td>\n",
              "      <td>0</td>\n",
              "      <td>100.00</td>\n",
              "      <td>0</td>\n",
              "      <td>Canceled</td>\n",
              "    </tr>\n",
              "    <tr>\n",
              "      <th>4</th>\n",
              "      <td>INN00005</td>\n",
              "      <td>2</td>\n",
              "      <td>0</td>\n",
              "      <td>1</td>\n",
              "      <td>1</td>\n",
              "      <td>Not Selected</td>\n",
              "      <td>0.0</td>\n",
              "      <td>Room_Type 1</td>\n",
              "      <td>48</td>\n",
              "      <td>2018</td>\n",
              "      <td>4</td>\n",
              "      <td>11</td>\n",
              "      <td>Online</td>\n",
              "      <td>0</td>\n",
              "      <td>0</td>\n",
              "      <td>0</td>\n",
              "      <td>94.50</td>\n",
              "      <td>0</td>\n",
              "      <td>Canceled</td>\n",
              "    </tr>\n",
              "  </tbody>\n",
              "</table>\n",
              "</div>"
            ],
            "text/plain": [
              "  Booking_ID  no_of_adults  no_of_children  no_of_weekend_nights  \\\n",
              "0   INN00001             2               0                     1   \n",
              "1   INN00002             2               0                     2   \n",
              "2   INN00003             1               0                     2   \n",
              "3   INN00004             2               0                     0   \n",
              "4   INN00005             2               0                     1   \n",
              "\n",
              "   no_of_week_nights type_of_meal_plan  required_car_parking_space  \\\n",
              "0                  2       Meal Plan 1                         0.0   \n",
              "1                  3      Not Selected                         0.0   \n",
              "2                  1       Meal Plan 1                         0.0   \n",
              "3                  2       Meal Plan 1                         0.0   \n",
              "4                  1      Not Selected                         0.0   \n",
              "\n",
              "  room_type_reserved  lead_time  arrival_year  arrival_month  arrival_date  \\\n",
              "0        Room_Type 1        224          2017             10             2   \n",
              "1        Room_Type 1          5          2018             11             6   \n",
              "2        Room_Type 1          1          2018              2            28   \n",
              "3        Room_Type 1        211          2018              5            20   \n",
              "4        Room_Type 1         48          2018              4            11   \n",
              "\n",
              "  market_segment_type  repeated_guest  no_of_previous_cancellations  \\\n",
              "0             Offline               0                             0   \n",
              "1              Online               0                             0   \n",
              "2              Online               0                             0   \n",
              "3              Online               0                             0   \n",
              "4              Online               0                             0   \n",
              "\n",
              "   no_of_previous_bookings_not_canceled  avg_price_per_room  \\\n",
              "0                                     0               65.00   \n",
              "1                                     0              106.68   \n",
              "2                                     0               60.00   \n",
              "3                                     0              100.00   \n",
              "4                                     0               94.50   \n",
              "\n",
              "   no_of_special_requests booking_status  \n",
              "0                       0   Not_Canceled  \n",
              "1                       1   Not_Canceled  \n",
              "2                       0       Canceled  \n",
              "3                       0       Canceled  \n",
              "4                       0       Canceled  "
            ]
          },
          "execution_count": 3,
          "metadata": {},
          "output_type": "execute_result"
        }
      ],
      "source": [
        "df.head()"
      ]
    },
    {
      "cell_type": "code",
      "execution_count": 4,
      "metadata": {
        "colab": {
          "base_uri": "https://localhost:8080/"
        },
        "id": "H1yIpOGubFCR",
        "outputId": "22d4c75a-49e0-4807-be51-ce4f944a18b5"
      },
      "outputs": [
        {
          "name": "stdout",
          "output_type": "stream",
          "text": [
            "<class 'pandas.core.frame.DataFrame'>\n",
            "RangeIndex: 36275 entries, 0 to 36274\n",
            "Data columns (total 19 columns):\n",
            " #   Column                                Non-Null Count  Dtype  \n",
            "---  ------                                --------------  -----  \n",
            " 0   Booking_ID                            36275 non-null  object \n",
            " 1   no_of_adults                          36275 non-null  int64  \n",
            " 2   no_of_children                        36275 non-null  int64  \n",
            " 3   no_of_weekend_nights                  36275 non-null  int64  \n",
            " 4   no_of_week_nights                     36275 non-null  int64  \n",
            " 5   type_of_meal_plan                     35368 non-null  object \n",
            " 6   required_car_parking_space            35005 non-null  float64\n",
            " 7   room_type_reserved                    36275 non-null  object \n",
            " 8   lead_time                             36275 non-null  int64  \n",
            " 9   arrival_year                          36275 non-null  int64  \n",
            " 10  arrival_month                         36275 non-null  int64  \n",
            " 11  arrival_date                          36275 non-null  int64  \n",
            " 12  market_segment_type                   36275 non-null  object \n",
            " 13  repeated_guest                        36275 non-null  int64  \n",
            " 14  no_of_previous_cancellations          36275 non-null  int64  \n",
            " 15  no_of_previous_bookings_not_canceled  36275 non-null  int64  \n",
            " 16  avg_price_per_room                    34643 non-null  float64\n",
            " 17  no_of_special_requests                36275 non-null  int64  \n",
            " 18  booking_status                        36275 non-null  object \n",
            "dtypes: float64(2), int64(12), object(5)\n",
            "memory usage: 5.3+ MB\n"
          ]
        }
      ],
      "source": [
        "df.info()"
      ]
    },
    {
      "cell_type": "code",
      "execution_count": 5,
      "metadata": {
        "colab": {
          "base_uri": "https://localhost:8080/",
          "height": 320
        },
        "id": "TIt_bqlUeNzN",
        "outputId": "d062c9db-1fea-430e-a233-7e647dfd08df"
      },
      "outputs": [
        {
          "data": {
            "text/html": [
              "<div>\n",
              "<style scoped>\n",
              "    .dataframe tbody tr th:only-of-type {\n",
              "        vertical-align: middle;\n",
              "    }\n",
              "\n",
              "    .dataframe tbody tr th {\n",
              "        vertical-align: top;\n",
              "    }\n",
              "\n",
              "    .dataframe thead th {\n",
              "        text-align: right;\n",
              "    }\n",
              "</style>\n",
              "<table border=\"1\" class=\"dataframe\">\n",
              "  <thead>\n",
              "    <tr style=\"text-align: right;\">\n",
              "      <th></th>\n",
              "      <th>no_of_adults</th>\n",
              "      <th>no_of_children</th>\n",
              "      <th>no_of_weekend_nights</th>\n",
              "      <th>no_of_week_nights</th>\n",
              "      <th>required_car_parking_space</th>\n",
              "      <th>lead_time</th>\n",
              "      <th>arrival_year</th>\n",
              "      <th>arrival_month</th>\n",
              "      <th>arrival_date</th>\n",
              "      <th>repeated_guest</th>\n",
              "      <th>no_of_previous_cancellations</th>\n",
              "      <th>no_of_previous_bookings_not_canceled</th>\n",
              "      <th>avg_price_per_room</th>\n",
              "      <th>no_of_special_requests</th>\n",
              "    </tr>\n",
              "  </thead>\n",
              "  <tbody>\n",
              "    <tr>\n",
              "      <th>count</th>\n",
              "      <td>36275.000000</td>\n",
              "      <td>36275.000000</td>\n",
              "      <td>36275.000000</td>\n",
              "      <td>36275.000000</td>\n",
              "      <td>35005.000000</td>\n",
              "      <td>36275.000000</td>\n",
              "      <td>36275.000000</td>\n",
              "      <td>36275.000000</td>\n",
              "      <td>36275.000000</td>\n",
              "      <td>36275.000000</td>\n",
              "      <td>36275.000000</td>\n",
              "      <td>36275.000000</td>\n",
              "      <td>34643.000000</td>\n",
              "      <td>36275.000000</td>\n",
              "    </tr>\n",
              "    <tr>\n",
              "      <th>mean</th>\n",
              "      <td>1.844962</td>\n",
              "      <td>0.105279</td>\n",
              "      <td>0.810724</td>\n",
              "      <td>2.204300</td>\n",
              "      <td>0.031281</td>\n",
              "      <td>85.232557</td>\n",
              "      <td>2017.820427</td>\n",
              "      <td>7.423653</td>\n",
              "      <td>15.596995</td>\n",
              "      <td>0.025637</td>\n",
              "      <td>0.023349</td>\n",
              "      <td>0.153411</td>\n",
              "      <td>103.447208</td>\n",
              "      <td>0.619655</td>\n",
              "    </tr>\n",
              "    <tr>\n",
              "      <th>std</th>\n",
              "      <td>0.518715</td>\n",
              "      <td>0.402648</td>\n",
              "      <td>0.870644</td>\n",
              "      <td>1.410905</td>\n",
              "      <td>0.174079</td>\n",
              "      <td>85.930817</td>\n",
              "      <td>0.383836</td>\n",
              "      <td>3.069894</td>\n",
              "      <td>8.740447</td>\n",
              "      <td>0.158053</td>\n",
              "      <td>0.368331</td>\n",
              "      <td>1.754171</td>\n",
              "      <td>35.158417</td>\n",
              "      <td>0.786236</td>\n",
              "    </tr>\n",
              "    <tr>\n",
              "      <th>min</th>\n",
              "      <td>0.000000</td>\n",
              "      <td>0.000000</td>\n",
              "      <td>0.000000</td>\n",
              "      <td>0.000000</td>\n",
              "      <td>0.000000</td>\n",
              "      <td>0.000000</td>\n",
              "      <td>2017.000000</td>\n",
              "      <td>1.000000</td>\n",
              "      <td>1.000000</td>\n",
              "      <td>0.000000</td>\n",
              "      <td>0.000000</td>\n",
              "      <td>0.000000</td>\n",
              "      <td>0.000000</td>\n",
              "      <td>0.000000</td>\n",
              "    </tr>\n",
              "    <tr>\n",
              "      <th>25%</th>\n",
              "      <td>2.000000</td>\n",
              "      <td>0.000000</td>\n",
              "      <td>0.000000</td>\n",
              "      <td>1.000000</td>\n",
              "      <td>0.000000</td>\n",
              "      <td>17.000000</td>\n",
              "      <td>2018.000000</td>\n",
              "      <td>5.000000</td>\n",
              "      <td>8.000000</td>\n",
              "      <td>0.000000</td>\n",
              "      <td>0.000000</td>\n",
              "      <td>0.000000</td>\n",
              "      <td>80.300000</td>\n",
              "      <td>0.000000</td>\n",
              "    </tr>\n",
              "    <tr>\n",
              "      <th>50%</th>\n",
              "      <td>2.000000</td>\n",
              "      <td>0.000000</td>\n",
              "      <td>1.000000</td>\n",
              "      <td>2.000000</td>\n",
              "      <td>0.000000</td>\n",
              "      <td>57.000000</td>\n",
              "      <td>2018.000000</td>\n",
              "      <td>8.000000</td>\n",
              "      <td>16.000000</td>\n",
              "      <td>0.000000</td>\n",
              "      <td>0.000000</td>\n",
              "      <td>0.000000</td>\n",
              "      <td>99.450000</td>\n",
              "      <td>0.000000</td>\n",
              "    </tr>\n",
              "    <tr>\n",
              "      <th>75%</th>\n",
              "      <td>2.000000</td>\n",
              "      <td>0.000000</td>\n",
              "      <td>2.000000</td>\n",
              "      <td>3.000000</td>\n",
              "      <td>0.000000</td>\n",
              "      <td>126.000000</td>\n",
              "      <td>2018.000000</td>\n",
              "      <td>10.000000</td>\n",
              "      <td>23.000000</td>\n",
              "      <td>0.000000</td>\n",
              "      <td>0.000000</td>\n",
              "      <td>0.000000</td>\n",
              "      <td>120.275000</td>\n",
              "      <td>1.000000</td>\n",
              "    </tr>\n",
              "    <tr>\n",
              "      <th>max</th>\n",
              "      <td>4.000000</td>\n",
              "      <td>10.000000</td>\n",
              "      <td>7.000000</td>\n",
              "      <td>17.000000</td>\n",
              "      <td>1.000000</td>\n",
              "      <td>443.000000</td>\n",
              "      <td>2018.000000</td>\n",
              "      <td>12.000000</td>\n",
              "      <td>31.000000</td>\n",
              "      <td>1.000000</td>\n",
              "      <td>13.000000</td>\n",
              "      <td>58.000000</td>\n",
              "      <td>540.000000</td>\n",
              "      <td>5.000000</td>\n",
              "    </tr>\n",
              "  </tbody>\n",
              "</table>\n",
              "</div>"
            ],
            "text/plain": [
              "       no_of_adults  no_of_children  no_of_weekend_nights  no_of_week_nights  \\\n",
              "count  36275.000000    36275.000000          36275.000000       36275.000000   \n",
              "mean       1.844962        0.105279              0.810724           2.204300   \n",
              "std        0.518715        0.402648              0.870644           1.410905   \n",
              "min        0.000000        0.000000              0.000000           0.000000   \n",
              "25%        2.000000        0.000000              0.000000           1.000000   \n",
              "50%        2.000000        0.000000              1.000000           2.000000   \n",
              "75%        2.000000        0.000000              2.000000           3.000000   \n",
              "max        4.000000       10.000000              7.000000          17.000000   \n",
              "\n",
              "       required_car_parking_space     lead_time  arrival_year  arrival_month  \\\n",
              "count                35005.000000  36275.000000  36275.000000   36275.000000   \n",
              "mean                     0.031281     85.232557   2017.820427       7.423653   \n",
              "std                      0.174079     85.930817      0.383836       3.069894   \n",
              "min                      0.000000      0.000000   2017.000000       1.000000   \n",
              "25%                      0.000000     17.000000   2018.000000       5.000000   \n",
              "50%                      0.000000     57.000000   2018.000000       8.000000   \n",
              "75%                      0.000000    126.000000   2018.000000      10.000000   \n",
              "max                      1.000000    443.000000   2018.000000      12.000000   \n",
              "\n",
              "       arrival_date  repeated_guest  no_of_previous_cancellations  \\\n",
              "count  36275.000000    36275.000000                  36275.000000   \n",
              "mean      15.596995        0.025637                      0.023349   \n",
              "std        8.740447        0.158053                      0.368331   \n",
              "min        1.000000        0.000000                      0.000000   \n",
              "25%        8.000000        0.000000                      0.000000   \n",
              "50%       16.000000        0.000000                      0.000000   \n",
              "75%       23.000000        0.000000                      0.000000   \n",
              "max       31.000000        1.000000                     13.000000   \n",
              "\n",
              "       no_of_previous_bookings_not_canceled  avg_price_per_room  \\\n",
              "count                          36275.000000        34643.000000   \n",
              "mean                               0.153411          103.447208   \n",
              "std                                1.754171           35.158417   \n",
              "min                                0.000000            0.000000   \n",
              "25%                                0.000000           80.300000   \n",
              "50%                                0.000000           99.450000   \n",
              "75%                                0.000000          120.275000   \n",
              "max                               58.000000          540.000000   \n",
              "\n",
              "       no_of_special_requests  \n",
              "count            36275.000000  \n",
              "mean                 0.619655  \n",
              "std                  0.786236  \n",
              "min                  0.000000  \n",
              "25%                  0.000000  \n",
              "50%                  0.000000  \n",
              "75%                  1.000000  \n",
              "max                  5.000000  "
            ]
          },
          "execution_count": 5,
          "metadata": {},
          "output_type": "execute_result"
        }
      ],
      "source": [
        "df.describe()"
      ]
    },
    {
      "cell_type": "code",
      "execution_count": 6,
      "metadata": {
        "colab": {
          "base_uri": "https://localhost:8080/"
        },
        "id": "kDFjQeIRbHQG",
        "outputId": "5c2856f0-f6ba-4226-de08-b0e06f3b0d04"
      },
      "outputs": [
        {
          "data": {
            "text/plain": [
              "(36275, 19)"
            ]
          },
          "execution_count": 6,
          "metadata": {},
          "output_type": "execute_result"
        }
      ],
      "source": [
        "df.shape"
      ]
    },
    {
      "cell_type": "code",
      "execution_count": 7,
      "metadata": {
        "colab": {
          "base_uri": "https://localhost:8080/",
          "height": 240
        },
        "id": "yMj29U86bN76",
        "outputId": "dc30166d-cfcb-43b4-9241-64620726eb12"
      },
      "outputs": [
        {
          "data": {
            "text/plain": [
              "type_of_meal_plan\n",
              "Meal Plan 1     27157\n",
              "Not Selected     4986\n",
              "Meal Plan 2      3220\n",
              "Meal Plan 3         5\n",
              "Name: count, dtype: int64"
            ]
          },
          "execution_count": 7,
          "metadata": {},
          "output_type": "execute_result"
        }
      ],
      "source": [
        "df['type_of_meal_plan'].value_counts()"
      ]
    },
    {
      "cell_type": "code",
      "execution_count": 8,
      "metadata": {
        "colab": {
          "base_uri": "https://localhost:8080/",
          "height": 334
        },
        "id": "ufr3K97kbZAb",
        "outputId": "019cfb97-a28f-49f3-d53e-0ac8911bfa36"
      },
      "outputs": [
        {
          "data": {
            "text/plain": [
              "room_type_reserved\n",
              "Room_Type 1    28130\n",
              "Room_Type 4     6057\n",
              "Room_Type 6      966\n",
              "Room_Type 2      692\n",
              "Room_Type 5      265\n",
              "Room_Type 7      158\n",
              "Room_Type 3        7\n",
              "Name: count, dtype: int64"
            ]
          },
          "execution_count": 8,
          "metadata": {},
          "output_type": "execute_result"
        }
      ],
      "source": [
        "df['room_type_reserved'].value_counts()"
      ]
    },
    {
      "cell_type": "code",
      "execution_count": 9,
      "metadata": {
        "colab": {
          "base_uri": "https://localhost:8080/",
          "height": 272
        },
        "id": "aXos0GdPbdsZ",
        "outputId": "8da82d56-8a1e-4322-906a-751433f4ed39"
      },
      "outputs": [
        {
          "data": {
            "text/plain": [
              "market_segment_type\n",
              "Online           23214\n",
              "Offline          10528\n",
              "Corporate         2017\n",
              "Complementary      391\n",
              "Aviation           125\n",
              "Name: count, dtype: int64"
            ]
          },
          "execution_count": 9,
          "metadata": {},
          "output_type": "execute_result"
        }
      ],
      "source": [
        "df['market_segment_type'].value_counts()"
      ]
    },
    {
      "cell_type": "code",
      "execution_count": 10,
      "metadata": {
        "colab": {
          "base_uri": "https://localhost:8080/",
          "height": 178
        },
        "id": "Dkmo_pZdbikB",
        "outputId": "4634a82b-6dad-4250-c1d9-8e18b93bed25"
      },
      "outputs": [
        {
          "data": {
            "text/plain": [
              "booking_status\n",
              "Not_Canceled    24390\n",
              "Canceled        11885\n",
              "Name: count, dtype: int64"
            ]
          },
          "execution_count": 10,
          "metadata": {},
          "output_type": "execute_result"
        }
      ],
      "source": [
        "df['booking_status'].value_counts()"
      ]
    },
    {
      "cell_type": "code",
      "execution_count": 11,
      "metadata": {
        "colab": {
          "base_uri": "https://localhost:8080/",
          "height": 679
        },
        "id": "9cvCkpL5bKIi",
        "outputId": "38edce84-9cd7-440c-8d70-3e0bf4919c06"
      },
      "outputs": [
        {
          "data": {
            "text/plain": [
              "Booking_ID                                 0\n",
              "no_of_adults                               0\n",
              "no_of_children                             0\n",
              "no_of_weekend_nights                       0\n",
              "no_of_week_nights                          0\n",
              "type_of_meal_plan                        907\n",
              "required_car_parking_space              1270\n",
              "room_type_reserved                         0\n",
              "lead_time                                  0\n",
              "arrival_year                               0\n",
              "arrival_month                              0\n",
              "arrival_date                               0\n",
              "market_segment_type                        0\n",
              "repeated_guest                             0\n",
              "no_of_previous_cancellations               0\n",
              "no_of_previous_bookings_not_canceled       0\n",
              "avg_price_per_room                      1632\n",
              "no_of_special_requests                     0\n",
              "booking_status                             0\n",
              "dtype: int64"
            ]
          },
          "execution_count": 11,
          "metadata": {},
          "output_type": "execute_result"
        }
      ],
      "source": [
        "df.isna().sum()"
      ]
    },
    {
      "cell_type": "markdown",
      "metadata": {
        "id": "41A9QQxScIxa"
      },
      "source": [
        "**Data preprocessing yang perlu dilakukan**\n",
        "1. Encoding\n",
        "2. Handle missing value\n",
        "3. Scalling"
      ]
    },
    {
      "cell_type": "markdown",
      "metadata": {
        "id": "PI4WhrUBbAJ3"
      },
      "source": [
        "## **Data Preprocessing**"
      ]
    },
    {
      "cell_type": "markdown",
      "metadata": {
        "id": "TF-Z_cEIexbf"
      },
      "source": [
        "**Split Data**"
      ]
    },
    {
      "cell_type": "code",
      "execution_count": 12,
      "metadata": {
        "id": "aJEa306CmQwo"
      },
      "outputs": [],
      "source": [
        "input = df.drop(['booking_status','Booking_ID'], axis = 1)\n",
        "output = df['booking_status']"
      ]
    },
    {
      "cell_type": "code",
      "execution_count": 13,
      "metadata": {
        "id": "BWZAoBrnbENB"
      },
      "outputs": [],
      "source": [
        "from sklearn.model_selection import train_test_split\n",
        "x_train, x_test, y_train, y_test = train_test_split(input, output, test_size = 0.2, random_state = 42)"
      ]
    },
    {
      "cell_type": "code",
      "execution_count": 14,
      "metadata": {},
      "outputs": [
        {
          "data": {
            "text/html": [
              "<div>\n",
              "<style scoped>\n",
              "    .dataframe tbody tr th:only-of-type {\n",
              "        vertical-align: middle;\n",
              "    }\n",
              "\n",
              "    .dataframe tbody tr th {\n",
              "        vertical-align: top;\n",
              "    }\n",
              "\n",
              "    .dataframe thead th {\n",
              "        text-align: right;\n",
              "    }\n",
              "</style>\n",
              "<table border=\"1\" class=\"dataframe\">\n",
              "  <thead>\n",
              "    <tr style=\"text-align: right;\">\n",
              "      <th></th>\n",
              "      <th>no_of_adults</th>\n",
              "      <th>no_of_children</th>\n",
              "      <th>no_of_weekend_nights</th>\n",
              "      <th>no_of_week_nights</th>\n",
              "      <th>type_of_meal_plan</th>\n",
              "      <th>required_car_parking_space</th>\n",
              "      <th>room_type_reserved</th>\n",
              "      <th>lead_time</th>\n",
              "      <th>arrival_year</th>\n",
              "      <th>arrival_month</th>\n",
              "      <th>arrival_date</th>\n",
              "      <th>market_segment_type</th>\n",
              "      <th>repeated_guest</th>\n",
              "      <th>no_of_previous_cancellations</th>\n",
              "      <th>no_of_previous_bookings_not_canceled</th>\n",
              "      <th>avg_price_per_room</th>\n",
              "      <th>no_of_special_requests</th>\n",
              "    </tr>\n",
              "  </thead>\n",
              "  <tbody>\n",
              "    <tr>\n",
              "      <th>4968</th>\n",
              "      <td>2</td>\n",
              "      <td>1</td>\n",
              "      <td>1</td>\n",
              "      <td>0</td>\n",
              "      <td>Meal Plan 1</td>\n",
              "      <td>0.0</td>\n",
              "      <td>Room_Type 1</td>\n",
              "      <td>3</td>\n",
              "      <td>2017</td>\n",
              "      <td>8</td>\n",
              "      <td>23</td>\n",
              "      <td>Online</td>\n",
              "      <td>0</td>\n",
              "      <td>0</td>\n",
              "      <td>0</td>\n",
              "      <td>90.00</td>\n",
              "      <td>3</td>\n",
              "    </tr>\n",
              "    <tr>\n",
              "      <th>34540</th>\n",
              "      <td>2</td>\n",
              "      <td>0</td>\n",
              "      <td>1</td>\n",
              "      <td>2</td>\n",
              "      <td>Meal Plan 1</td>\n",
              "      <td>0.0</td>\n",
              "      <td>Room_Type 4</td>\n",
              "      <td>9</td>\n",
              "      <td>2018</td>\n",
              "      <td>2</td>\n",
              "      <td>12</td>\n",
              "      <td>Offline</td>\n",
              "      <td>0</td>\n",
              "      <td>0</td>\n",
              "      <td>0</td>\n",
              "      <td>48.67</td>\n",
              "      <td>0</td>\n",
              "    </tr>\n",
              "    <tr>\n",
              "      <th>36108</th>\n",
              "      <td>2</td>\n",
              "      <td>0</td>\n",
              "      <td>2</td>\n",
              "      <td>2</td>\n",
              "      <td>Meal Plan 1</td>\n",
              "      <td>0.0</td>\n",
              "      <td>Room_Type 1</td>\n",
              "      <td>24</td>\n",
              "      <td>2018</td>\n",
              "      <td>12</td>\n",
              "      <td>25</td>\n",
              "      <td>Online</td>\n",
              "      <td>0</td>\n",
              "      <td>0</td>\n",
              "      <td>0</td>\n",
              "      <td>95.20</td>\n",
              "      <td>1</td>\n",
              "    </tr>\n",
              "    <tr>\n",
              "      <th>1553</th>\n",
              "      <td>2</td>\n",
              "      <td>0</td>\n",
              "      <td>0</td>\n",
              "      <td>3</td>\n",
              "      <td>Meal Plan 1</td>\n",
              "      <td>0.0</td>\n",
              "      <td>Room_Type 1</td>\n",
              "      <td>23</td>\n",
              "      <td>2018</td>\n",
              "      <td>6</td>\n",
              "      <td>21</td>\n",
              "      <td>Online</td>\n",
              "      <td>0</td>\n",
              "      <td>0</td>\n",
              "      <td>0</td>\n",
              "      <td>127.67</td>\n",
              "      <td>0</td>\n",
              "    </tr>\n",
              "    <tr>\n",
              "      <th>24974</th>\n",
              "      <td>2</td>\n",
              "      <td>1</td>\n",
              "      <td>0</td>\n",
              "      <td>2</td>\n",
              "      <td>Meal Plan 1</td>\n",
              "      <td>0.0</td>\n",
              "      <td>Room_Type 4</td>\n",
              "      <td>9</td>\n",
              "      <td>2018</td>\n",
              "      <td>9</td>\n",
              "      <td>8</td>\n",
              "      <td>Online</td>\n",
              "      <td>0</td>\n",
              "      <td>0</td>\n",
              "      <td>0</td>\n",
              "      <td>201.50</td>\n",
              "      <td>2</td>\n",
              "    </tr>\n",
              "  </tbody>\n",
              "</table>\n",
              "</div>"
            ],
            "text/plain": [
              "       no_of_adults  no_of_children  no_of_weekend_nights  no_of_week_nights  \\\n",
              "4968              2               1                     1                  0   \n",
              "34540             2               0                     1                  2   \n",
              "36108             2               0                     2                  2   \n",
              "1553              2               0                     0                  3   \n",
              "24974             2               1                     0                  2   \n",
              "\n",
              "      type_of_meal_plan  required_car_parking_space room_type_reserved  \\\n",
              "4968        Meal Plan 1                         0.0        Room_Type 1   \n",
              "34540       Meal Plan 1                         0.0        Room_Type 4   \n",
              "36108       Meal Plan 1                         0.0        Room_Type 1   \n",
              "1553        Meal Plan 1                         0.0        Room_Type 1   \n",
              "24974       Meal Plan 1                         0.0        Room_Type 4   \n",
              "\n",
              "       lead_time  arrival_year  arrival_month  arrival_date  \\\n",
              "4968           3          2017              8            23   \n",
              "34540          9          2018              2            12   \n",
              "36108         24          2018             12            25   \n",
              "1553          23          2018              6            21   \n",
              "24974          9          2018              9             8   \n",
              "\n",
              "      market_segment_type  repeated_guest  no_of_previous_cancellations  \\\n",
              "4968               Online               0                             0   \n",
              "34540             Offline               0                             0   \n",
              "36108              Online               0                             0   \n",
              "1553               Online               0                             0   \n",
              "24974              Online               0                             0   \n",
              "\n",
              "       no_of_previous_bookings_not_canceled  avg_price_per_room  \\\n",
              "4968                                      0               90.00   \n",
              "34540                                     0               48.67   \n",
              "36108                                     0               95.20   \n",
              "1553                                      0              127.67   \n",
              "24974                                     0              201.50   \n",
              "\n",
              "       no_of_special_requests  \n",
              "4968                        3  \n",
              "34540                       0  \n",
              "36108                       1  \n",
              "1553                        0  \n",
              "24974                       2  "
            ]
          },
          "execution_count": 14,
          "metadata": {},
          "output_type": "execute_result"
        }
      ],
      "source": [
        "x_test.head()"
      ]
    },
    {
      "cell_type": "code",
      "execution_count": 15,
      "metadata": {},
      "outputs": [
        {
          "data": {
            "text/plain": [
              "Index(['no_of_adults', 'no_of_children', 'no_of_weekend_nights',\n",
              "       'no_of_week_nights', 'type_of_meal_plan', 'required_car_parking_space',\n",
              "       'room_type_reserved', 'lead_time', 'arrival_year', 'arrival_month',\n",
              "       'arrival_date', 'market_segment_type', 'repeated_guest',\n",
              "       'no_of_previous_cancellations', 'no_of_previous_bookings_not_canceled',\n",
              "       'avg_price_per_room', 'no_of_special_requests'],\n",
              "      dtype='object')"
            ]
          },
          "execution_count": 15,
          "metadata": {},
          "output_type": "execute_result"
        }
      ],
      "source": [
        "x_train.columns"
      ]
    },
    {
      "cell_type": "code",
      "execution_count": 16,
      "metadata": {},
      "outputs": [
        {
          "data": {
            "text/plain": [
              "no_of_adults                               0\n",
              "no_of_children                             0\n",
              "no_of_weekend_nights                       0\n",
              "no_of_week_nights                          0\n",
              "type_of_meal_plan                        736\n",
              "required_car_parking_space              1039\n",
              "room_type_reserved                         0\n",
              "lead_time                                  0\n",
              "arrival_year                               0\n",
              "arrival_month                              0\n",
              "arrival_date                               0\n",
              "market_segment_type                        0\n",
              "repeated_guest                             0\n",
              "no_of_previous_cancellations               0\n",
              "no_of_previous_bookings_not_canceled       0\n",
              "avg_price_per_room                      1279\n",
              "no_of_special_requests                     0\n",
              "dtype: int64"
            ]
          },
          "execution_count": 16,
          "metadata": {},
          "output_type": "execute_result"
        }
      ],
      "source": [
        "x_train.isna().sum()"
      ]
    },
    {
      "cell_type": "code",
      "execution_count": 17,
      "metadata": {
        "colab": {
          "base_uri": "https://localhost:8080/",
          "height": 447
        },
        "id": "ze8Bq4R-clHh",
        "outputId": "30b9c9ab-dd47-4428-9b74-e02310a77970"
      },
      "outputs": [
        {
          "data": {
            "image/png": "[encoded data removed]",
            "text/plain": [
              "<Figure size 640x480 with 1 Axes>"
            ]
          },
          "metadata": {},
          "output_type": "display_data"
        }
      ],
      "source": [
        "import matplotlib.pyplot as plt\n",
        "x_train.boxplot(column = ['no_of_adults','no_of_children','no_of_weekend_nights', 'no_of_week_nights'])\n",
        "plt.show()"
      ]
    },
    {
      "cell_type": "code",
      "execution_count": 18,
      "metadata": {
        "colab": {
          "base_uri": "https://localhost:8080/",
          "height": 447
        },
        "id": "cCfZ4G5Pejz_",
        "outputId": "833dc505-8abf-49c9-8330-1540d5217640"
      },
      "outputs": [
        {
          "data": {
            "image/png": "[encoded data removed]",
            "text/plain": [
              "<Figure size 640x480 with 1 Axes>"
            ]
          },
          "metadata": {},
          "output_type": "display_data"
        }
      ],
      "source": [
        "x_train.boxplot(column = ['required_car_parking_space', 'lead_time', 'arrival_year', 'arrival_month'])\n",
        "plt.show()"
      ]
    },
    {
      "cell_type": "code",
      "execution_count": 19,
      "metadata": {
        "colab": {
          "base_uri": "https://localhost:8080/",
          "height": 447
        },
        "id": "EmAtEteYfJxI",
        "outputId": "84e2c079-f45b-4793-f146-f376bfa1a8bb"
      },
      "outputs": [
        {
          "data": {
            "image/png": "[encoded data removed]",
            "text/plain": [
              "<Figure size 640x480 with 1 Axes>"
            ]
          },
          "metadata": {},
          "output_type": "display_data"
        }
      ],
      "source": [
        "x_train.boxplot(column = ['arrival_date', 'repeated_guest', 'no_of_previous_cancellations'])\n",
        "plt.show()"
      ]
    },
    {
      "cell_type": "code",
      "execution_count": 20,
      "metadata": {
        "colab": {
          "base_uri": "https://localhost:8080/",
          "height": 447
        },
        "id": "CrCrRJDHfddp",
        "outputId": "462f17cc-08f2-4d91-f963-a27c3f071b7c"
      },
      "outputs": [
        {
          "data": {
            "image/png": "[encoded data removed]",
            "text/plain": [
              "<Figure size 640x480 with 1 Axes>"
            ]
          },
          "metadata": {},
          "output_type": "display_data"
        }
      ],
      "source": [
        "x_train.boxplot(column = ['no_of_previous_bookings_not_canceled', 'avg_price_per_room', 'no_of_special_requests'])\n",
        "plt.show()"
      ]
    },
    {
      "cell_type": "markdown",
      "metadata": {
        "id": "n8BvJQSh1jCX"
      },
      "source": [
        "**Handling Missing Value**"
      ]
    },
    {
      "cell_type": "code",
      "execution_count": 21,
      "metadata": {
        "id": "RZDmQ71e1qef"
      },
      "outputs": [],
      "source": [
        "import statistics as st\n",
        "\n",
        "x_train['type_of_meal_plan'] = x_train['type_of_meal_plan'].fillna(st.mode(x_train['type_of_meal_plan']))\n",
        "x_test['type_of_meal_plan'] = x_test['type_of_meal_plan'].fillna(st.mode(x_test['type_of_meal_plan']))\n",
        "\n",
        "for col in ['required_car_parking_space', 'avg_price_per_room']:\n",
        "    x_train[col] = x_train[col].fillna(x_train[col].median())\n",
        "    x_test[col] = x_test[col].fillna(x_test[col].median())"
      ]
    },
    {
      "cell_type": "code",
      "execution_count": 22,
      "metadata": {
        "colab": {
          "base_uri": "https://localhost:8080/",
          "height": 617
        },
        "id": "BvBxQRQ82VPs",
        "outputId": "76d6e74d-5a65-4f0c-f67d-4920058a7b56"
      },
      "outputs": [
        {
          "data": {
            "text/plain": [
              "no_of_adults                            0\n",
              "no_of_children                          0\n",
              "no_of_weekend_nights                    0\n",
              "no_of_week_nights                       0\n",
              "type_of_meal_plan                       0\n",
              "required_car_parking_space              0\n",
              "room_type_reserved                      0\n",
              "lead_time                               0\n",
              "arrival_year                            0\n",
              "arrival_month                           0\n",
              "arrival_date                            0\n",
              "market_segment_type                     0\n",
              "repeated_guest                          0\n",
              "no_of_previous_cancellations            0\n",
              "no_of_previous_bookings_not_canceled    0\n",
              "avg_price_per_room                      0\n",
              "no_of_special_requests                  0\n",
              "dtype: int64"
            ]
          },
          "execution_count": 22,
          "metadata": {},
          "output_type": "execute_result"
        }
      ],
      "source": [
        "x_train.isna().sum()"
      ]
    },
    {
      "cell_type": "markdown",
      "metadata": {
        "id": "VPrd7Y_DnsoI"
      },
      "source": [
        "**Encoding**"
      ]
    },
    {
      "cell_type": "code",
      "execution_count": 23,
      "metadata": {
        "colab": {
          "base_uri": "https://localhost:8080/"
        },
        "id": "QeUiy3AlnuAm",
        "outputId": "333d8a56-e0e5-489b-e0ec-5875ac6da33a"
      },
      "outputs": [],
      "source": [
        "x_encode = {\"type_of_meal_plan\": {\"Not Selected\": 1, \"Meal Plan 1\": 1, \"Meal Plan 2\": 2, \"Meal Plan 3\" : 3}, \"room_type_reserved\": {\"Room_Type 1\": 1,\"Room_Type 2\": 2, \"Room_Type 3\": 3, \"Room_Type 4\": 4, \"Room_Type 5\": 5, \"Room_Type 6\": 6, \"Room_Type 7\": 7}}\n",
        "x_train = x_train.replace(x_encode)\n",
        "x_test = x_test.replace(x_encode)"
      ]
    },
    {
      "cell_type": "code",
      "execution_count": 24,
      "metadata": {},
      "outputs": [],
      "source": [
        "import pickle as pkl\n",
        "filename = 'meal_roomType_encode.pkl'\n",
        "pkl.dump(x_encode, open(filename, 'wb'))"
      ]
    },
    {
      "cell_type": "code",
      "execution_count": 25,
      "metadata": {
        "colab": {
          "base_uri": "https://localhost:8080/"
        },
        "id": "CvVFDPQ0QFTZ",
        "outputId": "16e28abe-52f9-43bb-aa32-43b7db7e95f5"
      },
      "outputs": [],
      "source": [
        "y_encode = {\"Not_Canceled\": 0, \"Canceled\": 1}\n",
        "y_train = y_train.replace(y_encode)\n",
        "y_test = y_test.replace(y_encode)"
      ]
    },
    {
      "cell_type": "code",
      "execution_count": 26,
      "metadata": {
        "id": "0gdULnvSqHbS"
      },
      "outputs": [],
      "source": [
        "from sklearn.preprocessing import OneHotEncoder\n",
        "\n",
        "enc = OneHotEncoder()\n",
        "xtrain_market_enc = pd.DataFrame(enc.fit_transform(x_train[['market_segment_type']]).toarray(),columns = enc.get_feature_names_out())\n",
        "x_train = x_train.reset_index()\n",
        "x_train = pd.concat([x_train, xtrain_market_enc], axis=1)\n",
        "\n",
        "xtest_market_enc = pd.DataFrame(enc.transform(x_test[['market_segment_type']]).toarray(),columns = enc.get_feature_names_out())\n",
        "x_test = x_test.reset_index()\n",
        "x_test = pd.concat([x_test, xtest_market_enc], axis=1)"
      ]
    },
    {
      "cell_type": "code",
      "execution_count": 27,
      "metadata": {},
      "outputs": [],
      "source": [
        "filename = 'market_ohe.pkl'\n",
        "pkl.dump(enc, open(filename, 'wb'))"
      ]
    },
    {
      "cell_type": "code",
      "execution_count": 28,
      "metadata": {},
      "outputs": [
        {
          "data": {
            "text/plain": [
              "Index(['index', 'no_of_adults', 'no_of_children', 'no_of_weekend_nights',\n",
              "       'no_of_week_nights', 'type_of_meal_plan', 'required_car_parking_space',\n",
              "       'room_type_reserved', 'lead_time', 'arrival_year', 'arrival_month',\n",
              "       'arrival_date', 'market_segment_type', 'repeated_guest',\n",
              "       'no_of_previous_cancellations', 'no_of_previous_bookings_not_canceled',\n",
              "       'avg_price_per_room', 'no_of_special_requests',\n",
              "       'market_segment_type_Aviation', 'market_segment_type_Complementary',\n",
              "       'market_segment_type_Corporate', 'market_segment_type_Offline',\n",
              "       'market_segment_type_Online'],\n",
              "      dtype='object')"
            ]
          },
          "execution_count": 28,
          "metadata": {},
          "output_type": "execute_result"
        }
      ],
      "source": [
        "x_train.columns"
      ]
    },
    {
      "cell_type": "code",
      "execution_count": 29,
      "metadata": {
        "id": "Ocqc36FoHmH-"
      },
      "outputs": [],
      "source": [
        "x_train.drop(columns = ['market_segment_type'], inplace = True)\n",
        "x_test.drop(columns = ['market_segment_type'], inplace = True)\n",
        "\n",
        "x_train.drop(columns = ['index'], inplace = True)\n",
        "x_test.drop(columns = ['index'], inplace = True)"
      ]
    },
    {
      "cell_type": "markdown",
      "metadata": {
        "id": "8_-ekFXb6UB3"
      },
      "source": [
        "**Scalling**"
      ]
    },
    {
      "cell_type": "code",
      "execution_count": 30,
      "metadata": {
        "id": "fTAqhdENprpR"
      },
      "outputs": [],
      "source": [
        "from sklearn.preprocessing import RobustScaler, StandardScaler\n",
        "\n",
        "robust_scaler = RobustScaler()\n",
        "standard_scaler = StandardScaler()\n",
        "\n",
        "scale_robust = ['no_of_adults', 'no_of_children', 'no_of_weekend_nights', 'no_of_week_nights', 'required_car_parking_space', 'lead_time', 'arrival_year', 'repeated_guest', 'no_of_previous_cancellations', 'no_of_previous_bookings_not_canceled', 'avg_price_per_room']\n",
        "scale_standard = ['arrival_month', 'arrival_date', 'type_of_meal_plan', 'room_type_reserved']\n",
        "\n",
        "x_train[scale_robust] = robust_scaler.fit_transform(x_train[scale_robust])\n",
        "x_test[scale_robust] = robust_scaler.transform(x_test[scale_robust])\n",
        "\n",
        "x_train[scale_standard] = standard_scaler.fit_transform(x_train[scale_standard])\n",
        "x_test[scale_standard] = standard_scaler.transform(x_test[scale_standard])"
      ]
    },
    {
      "cell_type": "code",
      "execution_count": 31,
      "metadata": {},
      "outputs": [],
      "source": [
        "filename = 'robust_scaler.pkl'\n",
        "pkl.dump(robust_scaler, open(filename, 'wb'))\n",
        "\n",
        "filename = 'standard_scaler.pkl'\n",
        "pkl.dump(standard_scaler, open(filename, 'wb'))"
      ]
    },
    {
      "cell_type": "markdown",
      "metadata": {
        "id": "XMe1-Tg1E404"
      },
      "source": [
        "# **Random Forest**"
      ]
    },
    {
      "cell_type": "code",
      "execution_count": 32,
      "metadata": {
        "colab": {
          "base_uri": "https://localhost:8080/",
          "height": 79
        },
        "id": "Ah0Vjz5lE4XX",
        "outputId": "85cdccbf-1a2f-41fb-de6a-975feb585427"
      },
      "outputs": [
        {
          "data": {
            "text/html": [
              "<style>#sk-container-id-1 {color: black;}#sk-container-id-1 pre{padding: 0;}#sk-container-id-1 div.sk-toggleable {background-color: white;}#sk-container-id-1 label.sk-toggleable__label {cursor: pointer;display: block;width: 100%;margin-bottom: 0;padding: 0.3em;box-sizing: border-box;text-align: center;}#sk-container-id-1 label.sk-toggleable__label-arrow:before {content: \"▸\";float: left;margin-right: 0.25em;color: #696969;}#sk-container-id-1 label.sk-toggleable__label-arrow:hover:before {color: black;}#sk-container-id-1 div.sk-estimator:hover label.sk-toggleable__label-arrow:before {color: black;}#sk-container-id-1 div.sk-toggleable__content {max-height: 0;max-width: 0;overflow: hidden;text-align: left;background-color: #f0f8ff;}#sk-container-id-1 div.sk-toggleable__content pre {margin: 0.2em;color: black;border-radius: 0.25em;background-color: #f0f8ff;}#sk-container-id-1 input.sk-toggleable__control:checked~div.sk-toggleable__content {max-height: 200px;max-width: 100%;overflow: auto;}#sk-container-id-1 input.sk-toggleable__control:checked~label.sk-toggleable__label-arrow:before {content: \"▾\";}#sk-container-id-1 div.sk-estimator input.sk-toggleable__control:checked~label.sk-toggleable__label {background-color: #d4ebff;}#sk-container-id-1 div.sk-label input.sk-toggleable__control:checked~label.sk-toggleable__label {background-color: #d4ebff;}#sk-container-id-1 input.sk-hidden--visually {border: 0;clip: rect(1px 1px 1px 1px);clip: rect(1px, 1px, 1px, 1px);height: 1px;margin: -1px;overflow: hidden;padding: 0;position: absolute;width: 1px;}#sk-container-id-1 div.sk-estimator {font-family: monospace;background-color: #f0f8ff;border: 1px dotted black;border-radius: 0.25em;box-sizing: border-box;margin-bottom: 0.5em;}#sk-container-id-1 div.sk-estimator:hover {background-color: #d4ebff;}#sk-container-id-1 div.sk-parallel-item::after {content: \"\";width: 100%;border-bottom: 1px solid gray;flex-grow: 1;}#sk-container-id-1 div.sk-label:hover label.sk-toggleable__label {background-color: #d4ebff;}#sk-container-id-1 div.sk-serial::before {content: \"\";position: absolute;border-left: 1px solid gray;box-sizing: border-box;top: 0;bottom: 0;left: 50%;z-index: 0;}#sk-container-id-1 div.sk-serial {display: flex;flex-direction: column;align-items: center;background-color: white;padding-right: 0.2em;padding-left: 0.2em;position: relative;}#sk-container-id-1 div.sk-item {position: relative;z-index: 1;}#sk-container-id-1 div.sk-parallel {display: flex;align-items: stretch;justify-content: center;background-color: white;position: relative;}#sk-container-id-1 div.sk-item::before, #sk-container-id-1 div.sk-parallel-item::before {content: \"\";position: absolute;border-left: 1px solid gray;box-sizing: border-box;top: 0;bottom: 0;left: 50%;z-index: -1;}#sk-container-id-1 div.sk-parallel-item {display: flex;flex-direction: column;z-index: 1;position: relative;background-color: white;}#sk-container-id-1 div.sk-parallel-item:first-child::after {align-self: flex-end;width: 50%;}#sk-container-id-1 div.sk-parallel-item:last-child::after {align-self: flex-start;width: 50%;}#sk-container-id-1 div.sk-parallel-item:only-child::after {width: 0;}#sk-container-id-1 div.sk-dashed-wrapped {border: 1px dashed gray;margin: 0 0.4em 0.5em 0.4em;box-sizing: border-box;padding-bottom: 0.4em;background-color: white;}#sk-container-id-1 div.sk-label label {font-family: monospace;font-weight: bold;display: inline-block;line-height: 1.2em;}#sk-container-id-1 div.sk-label-container {text-align: center;}#sk-container-id-1 div.sk-container {/* jupyter's `normalize.less` sets `[hidden] { display: none; }` but bootstrap.min.css set `[hidden] { display: none !important; }` so we also need the `!important` here to be able to override the default hidden behavior on the sphinx rendered scikit-learn.org. See: https://github.com/scikit-learn/scikit-learn/issues/21755 */display: inline-block !important;position: relative;}#sk-container-id-1 div.sk-text-repr-fallback {display: none;}</style><div id=\"sk-container-id-1\" class=\"sk-top-container\"><div class=\"sk-text-repr-fallback\"><pre>RandomForestClassifier(criterion=&#x27;entropy&#x27;, max_depth=35, random_state=42)</pre><b>In a Jupyter environment, please rerun this cell to show the HTML representation or trust the notebook. <br />On GitHub, the HTML representation is unable to render, please try loading this page with nbviewer.org.</b></div><div class=\"sk-container\" hidden><div class=\"sk-item\"><div class=\"sk-estimator sk-toggleable\"><input class=\"sk-toggleable__control sk-hidden--visually\" id=\"sk-estimator-id-1\" type=\"checkbox\" checked><label for=\"sk-estimator-id-1\" class=\"sk-toggleable__label sk-toggleable__label-arrow\">RandomForestClassifier</label><div class=\"sk-toggleable__content\"><pre>RandomForestClassifier(criterion=&#x27;entropy&#x27;, max_depth=35, random_state=42)</pre></div></div></div></div></div>"
            ],
            "text/plain": [
              "RandomForestClassifier(criterion='entropy', max_depth=35, random_state=42)"
            ]
          },
          "execution_count": 32,
          "metadata": {},
          "output_type": "execute_result"
        }
      ],
      "source": [
        "from sklearn.ensemble import RandomForestClassifier\n",
        "import warnings\n",
        "warnings.filterwarnings('ignore')\n",
        "\n",
        "RF_class = RandomForestClassifier(criterion = 'entropy', max_depth = 35, random_state = 42)\n",
        "RF_class.fit(x_train, y_train)"
      ]
    },
    {
      "cell_type": "code",
      "execution_count": 33,
      "metadata": {
        "id": "_QueV8pEGD6r"
      },
      "outputs": [],
      "source": [
        "y_pred_RF = RF_class.predict(x_test)"
      ]
    },
    {
      "cell_type": "code",
      "execution_count": 34,
      "metadata": {
        "colab": {
          "base_uri": "https://localhost:8080/"
        },
        "id": "tWCVs84MHzEh",
        "outputId": "2e24a5b2-ffa4-4d84-b747-092ee6397a3d"
      },
      "outputs": [
        {
          "name": "stdout",
          "output_type": "stream",
          "text": [
            "\n",
            "Confusion Matrix\n",
            "\n",
            "[[4583  256]\n",
            " [ 439 1977]]\n",
            "\n",
            "Classification Report\n",
            "\n",
            "              precision    recall  f1-score   support\n",
            "\n",
            "           0       0.91      0.95      0.93      4839\n",
            "           1       0.89      0.82      0.85      2416\n",
            "\n",
            "    accuracy                           0.90      7255\n",
            "   macro avg       0.90      0.88      0.89      7255\n",
            "weighted avg       0.90      0.90      0.90      7255\n",
            "\n"
          ]
        }
      ],
      "source": [
        "from sklearn.metrics import accuracy_score, classification_report, confusion_matrix\n",
        "\n",
        "print('\\nConfusion Matrix\\n')\n",
        "print(confusion_matrix(y_test, y_pred_RF))\n",
        "\n",
        "print('\\nClassification Report\\n')\n",
        "print(classification_report(y_test, y_pred_RF, target_names = ['0','1']))"
      ]
    },
    {
      "cell_type": "markdown",
      "metadata": {
        "id": "ZkT8GSAzFBOY"
      },
      "source": [
        "# **Xgboost**"
      ]
    },
    {
      "cell_type": "code",
      "execution_count": 35,
      "metadata": {
        "id": "H4u5-rlbPmqS"
      },
      "outputs": [
        {
          "name": "stdout",
          "output_type": "stream",
          "text": [
            "Requirement already satisfied: xgboost in c:\\users\\asus\\appdata\\local\\programs\\python\\python310\\lib\\site-packages (3.0.0)Note: you may need to restart the kernel to use updated packages.\n",
            "\n",
            "Requirement already satisfied: numpy in c:\\users\\asus\\appdata\\local\\programs\\python\\python310\\lib\\site-packages (from xgboost) (1.24.3)\n",
            "Requirement already satisfied: scipy in c:\\users\\asus\\appdata\\local\\programs\\python\\python310\\lib\\site-packages (from xgboost) (1.9.1)\n"
          ]
        },
        {
          "name": "stderr",
          "output_type": "stream",
          "text": [
            "WARNING: Ignoring invalid distribution -etuptools (c:\\users\\asus\\appdata\\local\\programs\\python\\python310\\lib\\site-packages)\n",
            "WARNING: Ignoring invalid distribution -etuptools (c:\\users\\asus\\appdata\\local\\programs\\python\\python310\\lib\\site-packages)\n",
            "WARNING: Ignoring invalid distribution -etuptools (c:\\users\\asus\\appdata\\local\\programs\\python\\python310\\lib\\site-packages)\n"
          ]
        }
      ],
      "source": [
        "%pip install xgboost"
      ]
    },
    {
      "cell_type": "code",
      "execution_count": 36,
      "metadata": {
        "colab": {
          "base_uri": "https://localhost:8080/",
          "height": 253
        },
        "id": "z1tcOqJLNR2S",
        "outputId": "072dac7d-7d5f-45a7-d9af-03d5664bfee2"
      },
      "outputs": [
        {
          "data": {
            "text/html": [
              "<style>#sk-container-id-2 {color: black;}#sk-container-id-2 pre{padding: 0;}#sk-container-id-2 div.sk-toggleable {background-color: white;}#sk-container-id-2 label.sk-toggleable__label {cursor: pointer;display: block;width: 100%;margin-bottom: 0;padding: 0.3em;box-sizing: border-box;text-align: center;}#sk-container-id-2 label.sk-toggleable__label-arrow:before {content: \"▸\";float: left;margin-right: 0.25em;color: #696969;}#sk-container-id-2 label.sk-toggleable__label-arrow:hover:before {color: black;}#sk-container-id-2 div.sk-estimator:hover label.sk-toggleable__label-arrow:before {color: black;}#sk-container-id-2 div.sk-toggleable__content {max-height: 0;max-width: 0;overflow: hidden;text-align: left;background-color: #f0f8ff;}#sk-container-id-2 div.sk-toggleable__content pre {margin: 0.2em;color: black;border-radius: 0.25em;background-color: #f0f8ff;}#sk-container-id-2 input.sk-toggleable__control:checked~div.sk-toggleable__content {max-height: 200px;max-width: 100%;overflow: auto;}#sk-container-id-2 input.sk-toggleable__control:checked~label.sk-toggleable__label-arrow:before {content: \"▾\";}#sk-container-id-2 div.sk-estimator input.sk-toggleable__control:checked~label.sk-toggleable__label {background-color: #d4ebff;}#sk-container-id-2 div.sk-label input.sk-toggleable__control:checked~label.sk-toggleable__label {background-color: #d4ebff;}#sk-container-id-2 input.sk-hidden--visually {border: 0;clip: rect(1px 1px 1px 1px);clip: rect(1px, 1px, 1px, 1px);height: 1px;margin: -1px;overflow: hidden;padding: 0;position: absolute;width: 1px;}#sk-container-id-2 div.sk-estimator {font-family: monospace;background-color: #f0f8ff;border: 1px dotted black;border-radius: 0.25em;box-sizing: border-box;margin-bottom: 0.5em;}#sk-container-id-2 div.sk-estimator:hover {background-color: #d4ebff;}#sk-container-id-2 div.sk-parallel-item::after {content: \"\";width: 100%;border-bottom: 1px solid gray;flex-grow: 1;}#sk-container-id-2 div.sk-label:hover label.sk-toggleable__label {background-color: #d4ebff;}#sk-container-id-2 div.sk-serial::before {content: \"\";position: absolute;border-left: 1px solid gray;box-sizing: border-box;top: 0;bottom: 0;left: 50%;z-index: 0;}#sk-container-id-2 div.sk-serial {display: flex;flex-direction: column;align-items: center;background-color: white;padding-right: 0.2em;padding-left: 0.2em;position: relative;}#sk-container-id-2 div.sk-item {position: relative;z-index: 1;}#sk-container-id-2 div.sk-parallel {display: flex;align-items: stretch;justify-content: center;background-color: white;position: relative;}#sk-container-id-2 div.sk-item::before, #sk-container-id-2 div.sk-parallel-item::before {content: \"\";position: absolute;border-left: 1px solid gray;box-sizing: border-box;top: 0;bottom: 0;left: 50%;z-index: -1;}#sk-container-id-2 div.sk-parallel-item {display: flex;flex-direction: column;z-index: 1;position: relative;background-color: white;}#sk-container-id-2 div.sk-parallel-item:first-child::after {align-self: flex-end;width: 50%;}#sk-container-id-2 div.sk-parallel-item:last-child::after {align-self: flex-start;width: 50%;}#sk-container-id-2 div.sk-parallel-item:only-child::after {width: 0;}#sk-container-id-2 div.sk-dashed-wrapped {border: 1px dashed gray;margin: 0 0.4em 0.5em 0.4em;box-sizing: border-box;padding-bottom: 0.4em;background-color: white;}#sk-container-id-2 div.sk-label label {font-family: monospace;font-weight: bold;display: inline-block;line-height: 1.2em;}#sk-container-id-2 div.sk-label-container {text-align: center;}#sk-container-id-2 div.sk-container {/* jupyter's `normalize.less` sets `[hidden] { display: none; }` but bootstrap.min.css set `[hidden] { display: none !important; }` so we also need the `!important` here to be able to override the default hidden behavior on the sphinx rendered scikit-learn.org. See: https://github.com/scikit-learn/scikit-learn/issues/21755 */display: inline-block !important;position: relative;}#sk-container-id-2 div.sk-text-repr-fallback {display: none;}</style><div id=\"sk-container-id-2\" class=\"sk-top-container\"><div class=\"sk-text-repr-fallback\"><pre>XGBClassifier(base_score=None, booster=None, callbacks=None,\n",
              "              colsample_bylevel=None, colsample_bynode=None,\n",
              "              colsample_bytree=None, device=None, early_stopping_rounds=None,\n",
              "              enable_categorical=False, eval_metric=None, feature_types=None,\n",
              "              feature_weights=None, gamma=None, grow_policy=None,\n",
              "              importance_type=None, interaction_constraints=None,\n",
              "              learning_rate=None, max_bin=None, max_cat_threshold=None,\n",
              "              max_cat_to_onehot=None, max_delta_step=None, max_depth=40,\n",
              "              max_leaves=None, min_child_weight=None, missing=nan,\n",
              "              monotone_constraints=None, multi_strategy=None, n_estimators=None,\n",
              "              n_jobs=None, num_parallel_tree=None, ...)</pre><b>In a Jupyter environment, please rerun this cell to show the HTML representation or trust the notebook. <br />On GitHub, the HTML representation is unable to render, please try loading this page with nbviewer.org.</b></div><div class=\"sk-container\" hidden><div class=\"sk-item\"><div class=\"sk-estimator sk-toggleable\"><input class=\"sk-toggleable__control sk-hidden--visually\" id=\"sk-estimator-id-2\" type=\"checkbox\" checked><label for=\"sk-estimator-id-2\" class=\"sk-toggleable__label sk-toggleable__label-arrow\">XGBClassifier</label><div class=\"sk-toggleable__content\"><pre>XGBClassifier(base_score=None, booster=None, callbacks=None,\n",
              "              colsample_bylevel=None, colsample_bynode=None,\n",
              "              colsample_bytree=None, device=None, early_stopping_rounds=None,\n",
              "              enable_categorical=False, eval_metric=None, feature_types=None,\n",
              "              feature_weights=None, gamma=None, grow_policy=None,\n",
              "              importance_type=None, interaction_constraints=None,\n",
              "              learning_rate=None, max_bin=None, max_cat_threshold=None,\n",
              "              max_cat_to_onehot=None, max_delta_step=None, max_depth=40,\n",
              "              max_leaves=None, min_child_weight=None, missing=nan,\n",
              "              monotone_constraints=None, multi_strategy=None, n_estimators=None,\n",
              "              n_jobs=None, num_parallel_tree=None, ...)</pre></div></div></div></div></div>"
            ],
            "text/plain": [
              "XGBClassifier(base_score=None, booster=None, callbacks=None,\n",
              "              colsample_bylevel=None, colsample_bynode=None,\n",
              "              colsample_bytree=None, device=None, early_stopping_rounds=None,\n",
              "              enable_categorical=False, eval_metric=None, feature_types=None,\n",
              "              feature_weights=None, gamma=None, grow_policy=None,\n",
              "              importance_type=None, interaction_constraints=None,\n",
              "              learning_rate=None, max_bin=None, max_cat_threshold=None,\n",
              "              max_cat_to_onehot=None, max_delta_step=None, max_depth=40,\n",
              "              max_leaves=None, min_child_weight=None, missing=nan,\n",
              "              monotone_constraints=None, multi_strategy=None, n_estimators=None,\n",
              "              n_jobs=None, num_parallel_tree=None, ...)"
            ]
          },
          "execution_count": 36,
          "metadata": {},
          "output_type": "execute_result"
        }
      ],
      "source": [
        "from xgboost import XGBClassifier\n",
        "import warnings\n",
        "warnings.filterwarnings('ignore')\n",
        "\n",
        "xgb_class = XGBClassifier(objective = 'binary:logistic', max_depth = 40, random_state = 42)\n",
        "xgb_class.fit(x_train, y_train)"
      ]
    },
    {
      "cell_type": "code",
      "execution_count": 37,
      "metadata": {
        "id": "6EBy_BiDNvhS"
      },
      "outputs": [],
      "source": [
        "y_pred_xgb = xgb_class.predict(x_test)"
      ]
    },
    {
      "cell_type": "code",
      "execution_count": 38,
      "metadata": {
        "colab": {
          "base_uri": "https://localhost:8080/"
        },
        "id": "8nDbwjdsNyEB",
        "outputId": "601be0e5-7ee5-48f6-d0b8-6de533e7d984"
      },
      "outputs": [
        {
          "name": "stdout",
          "output_type": "stream",
          "text": [
            "\n",
            "Confusion Matrix\n",
            "\n",
            "[[4520  319]\n",
            " [ 424 1992]]\n",
            "\n",
            "Classification Report\n",
            "\n",
            "              precision    recall  f1-score   support\n",
            "\n",
            "           0       0.91      0.93      0.92      4839\n",
            "           1       0.86      0.82      0.84      2416\n",
            "\n",
            "    accuracy                           0.90      7255\n",
            "   macro avg       0.89      0.88      0.88      7255\n",
            "weighted avg       0.90      0.90      0.90      7255\n",
            "\n"
          ]
        }
      ],
      "source": [
        "print('\\nConfusion Matrix\\n')\n",
        "print(confusion_matrix(y_test, y_pred_xgb))\n",
        "\n",
        "print('\\nClassification Report\\n')\n",
        "print(classification_report(y_test, y_pred_xgb, target_names=['0', '1']))"
      ]
    },
    {
      "cell_type": "markdown",
      "metadata": {
        "id": "Zz587I8NRQ04"
      },
      "source": [
        "**Algoritma Terbaik**: Random Forest"
      ]
    },
    {
      "cell_type": "code",
      "execution_count": 39,
      "metadata": {},
      "outputs": [],
      "source": [
        "import pickle as pkl\n",
        "import gzip\n",
        "\n",
        "with gzip.open('rf_model.pkl', 'wb') as f:\n",
        "    pkl.dump(RF_class, f)"
      ]
    }
  ],
  "metadata": {
    "colab": {
      "provenance": []
    },
    "kernelspec": {
      "display_name": "Python 3",
      "name": "python3"
    },
    "language_info": {
      "codemirror_mode": {
        "name": "ipython",
        "version": 3
      },
      "file_extension": ".py",
      "mimetype": "text/x-python",
      "name": "python",
      "nbconvert_exporter": "python",
      "pygments_lexer": "ipython3",
      "version": "3.10.9"
    }
  },
  "nbformat": 4,
  "nbformat_minor": 0
}
